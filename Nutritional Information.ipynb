{
 "cells": [
  {
   "cell_type": "code",
   "execution_count": 1,
   "metadata": {},
   "outputs": [],
   "source": [
    "import numpy as np\n",
    "import pandas as pd\n",
    "import matplotlib.pyplot as plt\n",
    "from pandas import Series,DataFrame\n",
    "import datetime"
   ]
  },
  {
   "cell_type": "code",
   "execution_count": 2,
   "metadata": {},
   "outputs": [
    {
     "name": "stderr",
     "output_type": "stream",
     "text": [
      "C:\\Users\\lavle\\Anaconda3\\lib\\site-packages\\IPython\\core\\interactiveshell.py:2718: DtypeWarning: Columns (3,5,19,20,24,25,26,27,28,36,37,38,39,48) have mixed types. Specify dtype option on import or set low_memory=False.\n",
      "  interactivity=interactivity, compiler=compiler, result=result)\n"
     ]
    },
    {
     "data": {
      "text/html": [
       "<div>\n",
       "<style scoped>\n",
       "    .dataframe tbody tr th:only-of-type {\n",
       "        vertical-align: middle;\n",
       "    }\n",
       "\n",
       "    .dataframe tbody tr th {\n",
       "        vertical-align: top;\n",
       "    }\n",
       "\n",
       "    .dataframe thead th {\n",
       "        text-align: right;\n",
       "    }\n",
       "</style>\n",
       "<table border=\"1\" class=\"dataframe\">\n",
       "  <thead>\n",
       "    <tr style=\"text-align: right;\">\n",
       "      <th></th>\n",
       "      <th>code</th>\n",
       "      <th>url</th>\n",
       "      <th>creator</th>\n",
       "      <th>created_t</th>\n",
       "      <th>created_datetime</th>\n",
       "      <th>last_modified_t</th>\n",
       "      <th>last_modified_datetime</th>\n",
       "      <th>product_name</th>\n",
       "      <th>generic_name</th>\n",
       "      <th>quantity</th>\n",
       "      <th>...</th>\n",
       "      <th>taurine_100g</th>\n",
       "      <th>ph_100g</th>\n",
       "      <th>fruits-vegetables-nuts_100g</th>\n",
       "      <th>fruits-vegetables-nuts-estimate_100g</th>\n",
       "      <th>collagen-meat-protein-ratio_100g</th>\n",
       "      <th>cocoa_100g</th>\n",
       "      <th>chlorophyl_100g</th>\n",
       "      <th>carbon-footprint_100g</th>\n",
       "      <th>nutrition-score-fr_100g</th>\n",
       "      <th>nutrition-score-uk_100g</th>\n",
       "    </tr>\n",
       "  </thead>\n",
       "  <tbody>\n",
       "    <tr>\n",
       "      <th>0</th>\n",
       "      <td>3087.0</td>\n",
       "      <td>http://world-en.openfoodfacts.org/product/0000...</td>\n",
       "      <td>openfoodfacts-contributors</td>\n",
       "      <td>1474103866</td>\n",
       "      <td>2016-09-17T09:17:46Z</td>\n",
       "      <td>1474103893</td>\n",
       "      <td>2016-09-17T09:18:13Z</td>\n",
       "      <td>Farine de blÃ© noir</td>\n",
       "      <td>NaN</td>\n",
       "      <td>1kg</td>\n",
       "      <td>...</td>\n",
       "      <td>NaN</td>\n",
       "      <td>NaN</td>\n",
       "      <td>NaN</td>\n",
       "      <td>NaN</td>\n",
       "      <td>NaN</td>\n",
       "      <td>NaN</td>\n",
       "      <td>NaN</td>\n",
       "      <td>NaN</td>\n",
       "      <td>NaN</td>\n",
       "      <td>NaN</td>\n",
       "    </tr>\n",
       "    <tr>\n",
       "      <th>1</th>\n",
       "      <td>4530.0</td>\n",
       "      <td>http://world-en.openfoodfacts.org/product/0000...</td>\n",
       "      <td>usda-ndb-import</td>\n",
       "      <td>1489069957</td>\n",
       "      <td>2017-03-09T14:32:37Z</td>\n",
       "      <td>1489069957</td>\n",
       "      <td>2017-03-09T14:32:37Z</td>\n",
       "      <td>Banana Chips Sweetened (Whole)</td>\n",
       "      <td>NaN</td>\n",
       "      <td>NaN</td>\n",
       "      <td>...</td>\n",
       "      <td>NaN</td>\n",
       "      <td>NaN</td>\n",
       "      <td>NaN</td>\n",
       "      <td>NaN</td>\n",
       "      <td>NaN</td>\n",
       "      <td>NaN</td>\n",
       "      <td>NaN</td>\n",
       "      <td>NaN</td>\n",
       "      <td>14.0</td>\n",
       "      <td>14.0</td>\n",
       "    </tr>\n",
       "    <tr>\n",
       "      <th>2</th>\n",
       "      <td>4559.0</td>\n",
       "      <td>http://world-en.openfoodfacts.org/product/0000...</td>\n",
       "      <td>usda-ndb-import</td>\n",
       "      <td>1489069957</td>\n",
       "      <td>2017-03-09T14:32:37Z</td>\n",
       "      <td>1489069957</td>\n",
       "      <td>2017-03-09T14:32:37Z</td>\n",
       "      <td>Peanuts</td>\n",
       "      <td>NaN</td>\n",
       "      <td>NaN</td>\n",
       "      <td>...</td>\n",
       "      <td>NaN</td>\n",
       "      <td>NaN</td>\n",
       "      <td>NaN</td>\n",
       "      <td>NaN</td>\n",
       "      <td>NaN</td>\n",
       "      <td>NaN</td>\n",
       "      <td>NaN</td>\n",
       "      <td>NaN</td>\n",
       "      <td>0.0</td>\n",
       "      <td>0.0</td>\n",
       "    </tr>\n",
       "    <tr>\n",
       "      <th>3</th>\n",
       "      <td>16087.0</td>\n",
       "      <td>http://world-en.openfoodfacts.org/product/0000...</td>\n",
       "      <td>usda-ndb-import</td>\n",
       "      <td>1489055731</td>\n",
       "      <td>2017-03-09T10:35:31Z</td>\n",
       "      <td>1489055731</td>\n",
       "      <td>2017-03-09T10:35:31Z</td>\n",
       "      <td>Organic Salted Nut Mix</td>\n",
       "      <td>NaN</td>\n",
       "      <td>NaN</td>\n",
       "      <td>...</td>\n",
       "      <td>NaN</td>\n",
       "      <td>NaN</td>\n",
       "      <td>NaN</td>\n",
       "      <td>NaN</td>\n",
       "      <td>NaN</td>\n",
       "      <td>NaN</td>\n",
       "      <td>NaN</td>\n",
       "      <td>NaN</td>\n",
       "      <td>12.0</td>\n",
       "      <td>12.0</td>\n",
       "    </tr>\n",
       "    <tr>\n",
       "      <th>4</th>\n",
       "      <td>16094.0</td>\n",
       "      <td>http://world-en.openfoodfacts.org/product/0000...</td>\n",
       "      <td>usda-ndb-import</td>\n",
       "      <td>1489055653</td>\n",
       "      <td>2017-03-09T10:34:13Z</td>\n",
       "      <td>1489055653</td>\n",
       "      <td>2017-03-09T10:34:13Z</td>\n",
       "      <td>Organic Polenta</td>\n",
       "      <td>NaN</td>\n",
       "      <td>NaN</td>\n",
       "      <td>...</td>\n",
       "      <td>NaN</td>\n",
       "      <td>NaN</td>\n",
       "      <td>NaN</td>\n",
       "      <td>NaN</td>\n",
       "      <td>NaN</td>\n",
       "      <td>NaN</td>\n",
       "      <td>NaN</td>\n",
       "      <td>NaN</td>\n",
       "      <td>NaN</td>\n",
       "      <td>NaN</td>\n",
       "    </tr>\n",
       "  </tbody>\n",
       "</table>\n",
       "<p>5 rows × 161 columns</p>\n",
       "</div>"
      ],
      "text/plain": [
       "      code                                                url  \\\n",
       "0   3087.0  http://world-en.openfoodfacts.org/product/0000...   \n",
       "1   4530.0  http://world-en.openfoodfacts.org/product/0000...   \n",
       "2   4559.0  http://world-en.openfoodfacts.org/product/0000...   \n",
       "3  16087.0  http://world-en.openfoodfacts.org/product/0000...   \n",
       "4  16094.0  http://world-en.openfoodfacts.org/product/0000...   \n",
       "\n",
       "                      creator   created_t      created_datetime  \\\n",
       "0  openfoodfacts-contributors  1474103866  2016-09-17T09:17:46Z   \n",
       "1             usda-ndb-import  1489069957  2017-03-09T14:32:37Z   \n",
       "2             usda-ndb-import  1489069957  2017-03-09T14:32:37Z   \n",
       "3             usda-ndb-import  1489055731  2017-03-09T10:35:31Z   \n",
       "4             usda-ndb-import  1489055653  2017-03-09T10:34:13Z   \n",
       "\n",
       "  last_modified_t last_modified_datetime                    product_name  \\\n",
       "0      1474103893   2016-09-17T09:18:13Z             Farine de blÃ© noir   \n",
       "1      1489069957   2017-03-09T14:32:37Z  Banana Chips Sweetened (Whole)   \n",
       "2      1489069957   2017-03-09T14:32:37Z                         Peanuts   \n",
       "3      1489055731   2017-03-09T10:35:31Z          Organic Salted Nut Mix   \n",
       "4      1489055653   2017-03-09T10:34:13Z                 Organic Polenta   \n",
       "\n",
       "  generic_name quantity           ...           taurine_100g ph_100g  \\\n",
       "0          NaN      1kg           ...                    NaN     NaN   \n",
       "1          NaN      NaN           ...                    NaN     NaN   \n",
       "2          NaN      NaN           ...                    NaN     NaN   \n",
       "3          NaN      NaN           ...                    NaN     NaN   \n",
       "4          NaN      NaN           ...                    NaN     NaN   \n",
       "\n",
       "  fruits-vegetables-nuts_100g fruits-vegetables-nuts-estimate_100g  \\\n",
       "0                         NaN                                  NaN   \n",
       "1                         NaN                                  NaN   \n",
       "2                         NaN                                  NaN   \n",
       "3                         NaN                                  NaN   \n",
       "4                         NaN                                  NaN   \n",
       "\n",
       "  collagen-meat-protein-ratio_100g cocoa_100g chlorophyl_100g  \\\n",
       "0                              NaN        NaN             NaN   \n",
       "1                              NaN        NaN             NaN   \n",
       "2                              NaN        NaN             NaN   \n",
       "3                              NaN        NaN             NaN   \n",
       "4                              NaN        NaN             NaN   \n",
       "\n",
       "  carbon-footprint_100g nutrition-score-fr_100g nutrition-score-uk_100g  \n",
       "0                   NaN                     NaN                     NaN  \n",
       "1                   NaN                    14.0                    14.0  \n",
       "2                   NaN                     0.0                     0.0  \n",
       "3                   NaN                    12.0                    12.0  \n",
       "4                   NaN                     NaN                     NaN  \n",
       "\n",
       "[5 rows x 161 columns]"
      ]
     },
     "execution_count": 2,
     "metadata": {},
     "output_type": "execute_result"
    }
   ],
   "source": [
    "#Uploading the CSV file\n",
    "df = pd.read_csv(\"C:\\\\Users\\\\lavle\\\\Desktop\\\\Open food facts.csv\", encoding = 'utf8')\n",
    "#Remove products which do not have any product code(key field)\n",
    "df  = df[df.code.isnull() == False]\n",
    "df.isnull().sum()\n",
    "df.head()"
   ]
  },
  {
   "cell_type": "code",
   "execution_count": 3,
   "metadata": {},
   "outputs": [
    {
     "data": {
      "text/plain": [
       "(356001, 26)"
      ]
     },
     "execution_count": 3,
     "metadata": {},
     "output_type": "execute_result"
    }
   ],
   "source": [
    "df = df[['code',\n",
    "'created_datetime',\n",
    "'last_modified_datetime',\n",
    "'product_name',\n",
    "'quantity',\n",
    "'packaging_tags',\n",
    "'brands',\n",
    "'brands_tags',\n",
    "'categories_en',\n",
    "'origins_tags',\n",
    "'manufacturing_places_tags',\n",
    "'first_packaging_code_geo',\n",
    "'purchase_places',\n",
    "'countries_en',\n",
    "'ingredients_text',\n",
    "'serving_size',\n",
    "'main_category_en',\n",
    "'energy_100g',\n",
    "'fat_100g',\n",
    "'carbohydrates_100g',\n",
    "'sugars_100g',\n",
    "'fiber_100g',\n",
    "'proteins_100g',\n",
    "'calcium_100g',\n",
    "'iron_100g',\n",
    "'carbon-footprint_100g']]\n",
    "df.shape"
   ]
  },
  {
   "cell_type": "code",
   "execution_count": 5,
   "metadata": {},
   "outputs": [
    {
     "data": {
      "text/plain": [
       "(356001, 15)"
      ]
     },
     "execution_count": 5,
     "metadata": {},
     "output_type": "execute_result"
    }
   ],
   "source": [
    "df_nutri = df[['product_name',\n",
    "'quantity',\n",
    "'categories_en',\n",
    "'first_packaging_code_geo',\n",
    "'purchase_places',\n",
    "'countries_en',\n",
    "'main_category_en',\n",
    "'energy_100g',\n",
    "'fat_100g',\n",
    "'carbohydrates_100g',\n",
    "'sugars_100g',\n",
    "'fiber_100g',\n",
    "'proteins_100g',\n",
    "'calcium_100g',\n",
    "'iron_100g',]]\n",
    "df_nutri.shape"
   ]
  },
  {
   "cell_type": "code",
   "execution_count": 10,
   "metadata": {},
   "outputs": [
    {
     "data": {
      "text/html": [
       "<div>\n",
       "<style scoped>\n",
       "    .dataframe tbody tr th:only-of-type {\n",
       "        vertical-align: middle;\n",
       "    }\n",
       "\n",
       "    .dataframe tbody tr th {\n",
       "        vertical-align: top;\n",
       "    }\n",
       "\n",
       "    .dataframe thead th {\n",
       "        text-align: right;\n",
       "    }\n",
       "</style>\n",
       "<table border=\"1\" class=\"dataframe\">\n",
       "  <thead>\n",
       "    <tr style=\"text-align: right;\">\n",
       "      <th></th>\n",
       "      <th></th>\n",
       "      <th>country</th>\n",
       "    </tr>\n",
       "  </thead>\n",
       "  <tbody>\n",
       "    <tr>\n",
       "      <th>0</th>\n",
       "      <th>0</th>\n",
       "      <td>France</td>\n",
       "    </tr>\n",
       "    <tr>\n",
       "      <th>1</th>\n",
       "      <th>0</th>\n",
       "      <td>United States</td>\n",
       "    </tr>\n",
       "    <tr>\n",
       "      <th>2</th>\n",
       "      <th>0</th>\n",
       "      <td>United States</td>\n",
       "    </tr>\n",
       "    <tr>\n",
       "      <th>3</th>\n",
       "      <th>0</th>\n",
       "      <td>United States</td>\n",
       "    </tr>\n",
       "    <tr>\n",
       "      <th>4</th>\n",
       "      <th>0</th>\n",
       "      <td>United States</td>\n",
       "    </tr>\n",
       "  </tbody>\n",
       "</table>\n",
       "</div>"
      ],
      "text/plain": [
       "           country\n",
       "0 0         France\n",
       "1 0  United States\n",
       "2 0  United States\n",
       "3 0  United States\n",
       "4 0  United States"
      ]
     },
     "execution_count": 10,
     "metadata": {},
     "output_type": "execute_result"
    }
   ],
   "source": [
    "df_nutri = df_nutri[df_nutri['countries_en'].isnull()==False]\n",
    "df2_nutri = df_nutri['countries_en'].str.split(',', expand=True).stack()\n",
    "df2_nutri = pd.Series.to_frame(df2_nutri)\n",
    "df2_nutri.columns = ['country']\n",
    "df2_nutri.head()"
   ]
  },
  {
   "cell_type": "code",
   "execution_count": 11,
   "metadata": {},
   "outputs": [
    {
     "data": {
      "text/html": [
       "<div>\n",
       "<style scoped>\n",
       "    .dataframe tbody tr th:only-of-type {\n",
       "        vertical-align: middle;\n",
       "    }\n",
       "\n",
       "    .dataframe tbody tr th {\n",
       "        vertical-align: top;\n",
       "    }\n",
       "\n",
       "    .dataframe thead th {\n",
       "        text-align: right;\n",
       "    }\n",
       "</style>\n",
       "<table border=\"1\" class=\"dataframe\">\n",
       "  <thead>\n",
       "    <tr style=\"text-align: right;\">\n",
       "      <th></th>\n",
       "      <th></th>\n",
       "      <th>calcium_100g</th>\n",
       "      <th>carbohydrates_100g</th>\n",
       "      <th>categories_en</th>\n",
       "      <th>countries_en</th>\n",
       "      <th>country</th>\n",
       "      <th>energy_100g</th>\n",
       "      <th>fat_100g</th>\n",
       "      <th>fiber_100g</th>\n",
       "      <th>first_packaging_code_geo</th>\n",
       "      <th>iron_100g</th>\n",
       "      <th>main_category_en</th>\n",
       "      <th>product_name</th>\n",
       "      <th>proteins_100g</th>\n",
       "      <th>purchase_places</th>\n",
       "      <th>quantity</th>\n",
       "      <th>sugars_100g</th>\n",
       "    </tr>\n",
       "  </thead>\n",
       "  <tbody>\n",
       "    <tr>\n",
       "      <th>0</th>\n",
       "      <th>0</th>\n",
       "      <td>NaN</td>\n",
       "      <td>NaN</td>\n",
       "      <td>NaN</td>\n",
       "      <td>France</td>\n",
       "      <td>NaN</td>\n",
       "      <td>NaN</td>\n",
       "      <td>NaN</td>\n",
       "      <td>NaN</td>\n",
       "      <td>NaN</td>\n",
       "      <td>NaN</td>\n",
       "      <td>NaN</td>\n",
       "      <td>Farine de blÃ© noir</td>\n",
       "      <td>NaN</td>\n",
       "      <td>NaN</td>\n",
       "      <td>1kg</td>\n",
       "      <td>NaN</td>\n",
       "    </tr>\n",
       "    <tr>\n",
       "      <th>1</th>\n",
       "      <th>0</th>\n",
       "      <td>0.000</td>\n",
       "      <td>64.29</td>\n",
       "      <td>NaN</td>\n",
       "      <td>United States</td>\n",
       "      <td>NaN</td>\n",
       "      <td>2243.0</td>\n",
       "      <td>28.57</td>\n",
       "      <td>3.6</td>\n",
       "      <td>NaN</td>\n",
       "      <td>0.00129</td>\n",
       "      <td>NaN</td>\n",
       "      <td>Banana Chips Sweetened (Whole)</td>\n",
       "      <td>3.57</td>\n",
       "      <td>NaN</td>\n",
       "      <td>NaN</td>\n",
       "      <td>14.29</td>\n",
       "    </tr>\n",
       "    <tr>\n",
       "      <th>2</th>\n",
       "      <th>0</th>\n",
       "      <td>0.071</td>\n",
       "      <td>60.71</td>\n",
       "      <td>NaN</td>\n",
       "      <td>United States</td>\n",
       "      <td>NaN</td>\n",
       "      <td>1941.0</td>\n",
       "      <td>17.86</td>\n",
       "      <td>7.1</td>\n",
       "      <td>NaN</td>\n",
       "      <td>0.00129</td>\n",
       "      <td>NaN</td>\n",
       "      <td>Peanuts</td>\n",
       "      <td>17.86</td>\n",
       "      <td>NaN</td>\n",
       "      <td>NaN</td>\n",
       "      <td>17.86</td>\n",
       "    </tr>\n",
       "    <tr>\n",
       "      <th>3</th>\n",
       "      <th>0</th>\n",
       "      <td>0.143</td>\n",
       "      <td>17.86</td>\n",
       "      <td>NaN</td>\n",
       "      <td>United States</td>\n",
       "      <td>NaN</td>\n",
       "      <td>2540.0</td>\n",
       "      <td>57.14</td>\n",
       "      <td>7.1</td>\n",
       "      <td>NaN</td>\n",
       "      <td>0.00514</td>\n",
       "      <td>NaN</td>\n",
       "      <td>Organic Salted Nut Mix</td>\n",
       "      <td>17.86</td>\n",
       "      <td>NaN</td>\n",
       "      <td>NaN</td>\n",
       "      <td>3.57</td>\n",
       "    </tr>\n",
       "    <tr>\n",
       "      <th>4</th>\n",
       "      <th>0</th>\n",
       "      <td>NaN</td>\n",
       "      <td>77.14</td>\n",
       "      <td>NaN</td>\n",
       "      <td>United States</td>\n",
       "      <td>NaN</td>\n",
       "      <td>1552.0</td>\n",
       "      <td>1.43</td>\n",
       "      <td>5.7</td>\n",
       "      <td>NaN</td>\n",
       "      <td>NaN</td>\n",
       "      <td>NaN</td>\n",
       "      <td>Organic Polenta</td>\n",
       "      <td>8.57</td>\n",
       "      <td>NaN</td>\n",
       "      <td>NaN</td>\n",
       "      <td>NaN</td>\n",
       "    </tr>\n",
       "  </tbody>\n",
       "</table>\n",
       "</div>"
      ],
      "text/plain": [
       "     calcium_100g  carbohydrates_100g categories_en   countries_en  country  \\\n",
       "0 0           NaN                 NaN           NaN         France      NaN   \n",
       "1 0         0.000               64.29           NaN  United States      NaN   \n",
       "2 0         0.071               60.71           NaN  United States      NaN   \n",
       "3 0         0.143               17.86           NaN  United States      NaN   \n",
       "4 0           NaN               77.14           NaN  United States      NaN   \n",
       "\n",
       "     energy_100g  fat_100g  fiber_100g first_packaging_code_geo  iron_100g  \\\n",
       "0 0          NaN       NaN         NaN                      NaN        NaN   \n",
       "1 0       2243.0     28.57         3.6                      NaN    0.00129   \n",
       "2 0       1941.0     17.86         7.1                      NaN    0.00129   \n",
       "3 0       2540.0     57.14         7.1                      NaN    0.00514   \n",
       "4 0       1552.0      1.43         5.7                      NaN        NaN   \n",
       "\n",
       "    main_category_en                    product_name  proteins_100g  \\\n",
       "0 0              NaN             Farine de blÃ© noir            NaN   \n",
       "1 0              NaN  Banana Chips Sweetened (Whole)           3.57   \n",
       "2 0              NaN                         Peanuts          17.86   \n",
       "3 0              NaN          Organic Salted Nut Mix          17.86   \n",
       "4 0              NaN                 Organic Polenta           8.57   \n",
       "\n",
       "    purchase_places quantity  sugars_100g  \n",
       "0 0             NaN      1kg          NaN  \n",
       "1 0             NaN      NaN        14.29  \n",
       "2 0             NaN      NaN        17.86  \n",
       "3 0             NaN      NaN         3.57  \n",
       "4 0             NaN      NaN          NaN  "
      ]
     },
     "execution_count": 11,
     "metadata": {},
     "output_type": "execute_result"
    }
   ],
   "source": [
    "df_nutri, df2_nutri = df_nutri.align(df2_nutri, level=0, join='outer')\n",
    "df_nutri.head()"
   ]
  },
  {
   "cell_type": "code",
   "execution_count": 13,
   "metadata": {},
   "outputs": [],
   "source": [
    "df_nutri['country'] = df2_nutri['country']\n",
    "del df_nutri['countries_en']"
   ]
  },
  {
   "cell_type": "code",
   "execution_count": 14,
   "metadata": {},
   "outputs": [
    {
     "data": {
      "text/html": [
       "<div>\n",
       "<style scoped>\n",
       "    .dataframe tbody tr th:only-of-type {\n",
       "        vertical-align: middle;\n",
       "    }\n",
       "\n",
       "    .dataframe tbody tr th {\n",
       "        vertical-align: top;\n",
       "    }\n",
       "\n",
       "    .dataframe thead th {\n",
       "        text-align: right;\n",
       "    }\n",
       "</style>\n",
       "<table border=\"1\" class=\"dataframe\">\n",
       "  <thead>\n",
       "    <tr style=\"text-align: right;\">\n",
       "      <th></th>\n",
       "      <th></th>\n",
       "      <th>calcium_100g</th>\n",
       "      <th>carbohydrates_100g</th>\n",
       "      <th>categories_en</th>\n",
       "      <th>country</th>\n",
       "      <th>energy_100g</th>\n",
       "      <th>fat_100g</th>\n",
       "      <th>fiber_100g</th>\n",
       "      <th>first_packaging_code_geo</th>\n",
       "      <th>iron_100g</th>\n",
       "      <th>main_category_en</th>\n",
       "      <th>product_name</th>\n",
       "      <th>proteins_100g</th>\n",
       "      <th>purchase_places</th>\n",
       "      <th>quantity</th>\n",
       "      <th>sugars_100g</th>\n",
       "    </tr>\n",
       "  </thead>\n",
       "  <tbody>\n",
       "    <tr>\n",
       "      <th>0</th>\n",
       "      <th>0</th>\n",
       "      <td>NaN</td>\n",
       "      <td>NaN</td>\n",
       "      <td>NaN</td>\n",
       "      <td>France</td>\n",
       "      <td>NaN</td>\n",
       "      <td>NaN</td>\n",
       "      <td>NaN</td>\n",
       "      <td>NaN</td>\n",
       "      <td>NaN</td>\n",
       "      <td>NaN</td>\n",
       "      <td>Farine de blÃ© noir</td>\n",
       "      <td>NaN</td>\n",
       "      <td>NaN</td>\n",
       "      <td>1kg</td>\n",
       "      <td>NaN</td>\n",
       "    </tr>\n",
       "    <tr>\n",
       "      <th>1</th>\n",
       "      <th>0</th>\n",
       "      <td>0.0</td>\n",
       "      <td>64.29</td>\n",
       "      <td>NaN</td>\n",
       "      <td>United States</td>\n",
       "      <td>2243.0</td>\n",
       "      <td>28.57</td>\n",
       "      <td>3.6</td>\n",
       "      <td>NaN</td>\n",
       "      <td>0.00129</td>\n",
       "      <td>NaN</td>\n",
       "      <td>Banana Chips Sweetened (Whole)</td>\n",
       "      <td>3.57</td>\n",
       "      <td>NaN</td>\n",
       "      <td>NaN</td>\n",
       "      <td>14.29</td>\n",
       "    </tr>\n",
       "  </tbody>\n",
       "</table>\n",
       "</div>"
      ],
      "text/plain": [
       "     calcium_100g  carbohydrates_100g categories_en        country  \\\n",
       "0 0           NaN                 NaN           NaN         France   \n",
       "1 0           0.0               64.29           NaN  United States   \n",
       "\n",
       "     energy_100g  fat_100g  fiber_100g first_packaging_code_geo  iron_100g  \\\n",
       "0 0          NaN       NaN         NaN                      NaN        NaN   \n",
       "1 0       2243.0     28.57         3.6                      NaN    0.00129   \n",
       "\n",
       "    main_category_en                    product_name  proteins_100g  \\\n",
       "0 0              NaN             Farine de blÃ© noir            NaN   \n",
       "1 0              NaN  Banana Chips Sweetened (Whole)           3.57   \n",
       "\n",
       "    purchase_places quantity  sugars_100g  \n",
       "0 0             NaN      1kg          NaN  \n",
       "1 0             NaN      NaN        14.29  "
      ]
     },
     "execution_count": 14,
     "metadata": {},
     "output_type": "execute_result"
    }
   ],
   "source": [
    "df_nutri.head(2)"
   ]
  },
  {
   "cell_type": "code",
   "execution_count": 15,
   "metadata": {},
   "outputs": [],
   "source": [
    "df_nutri.reset_index(drop=True, inplace=True)"
   ]
  },
  {
   "cell_type": "code",
   "execution_count": 16,
   "metadata": {},
   "outputs": [
    {
     "data": {
      "text/plain": [
       "(434, 15)"
      ]
     },
     "execution_count": 16,
     "metadata": {},
     "output_type": "execute_result"
    }
   ],
   "source": [
    "df_danish = df_nutri[df_nutri['country'].isin(['Denmark'])]\n",
    "df_danish.shape"
   ]
  },
  {
   "cell_type": "code",
   "execution_count": 17,
   "metadata": {},
   "outputs": [],
   "source": [
    "df_swedish = df_nutri[df_nutri['country'].isin(['Sweden'])]\n",
    "df_norwegian = df_nutri[df_nutri['country'].isin(['Norway'])]\n",
    "df_uk = df_nutri[df_nutri['country'].isin(['United Kingdom'])]\n",
    "df_holland = df_nutri[df_nutri['country'].isin(['Holland'])]\n",
    "df_german = df_nutri[df_nutri['country'].isin(['Germany'])]\n",
    "df_french = df_nutri[df_nutri['country'].isin(['France'])]\n",
    "df_suisse = df_nutri[df_nutri['country'].isin(['Switzerland'])]\n",
    "df_belgium = df_nutri[df_nutri['country'].isin(['Belgium'])]\n",
    "df_port =df_nutri[df_nutri['country'].isin(['Portugal'])]\n",
    "df_greek = df_nutri[df_nutri['country'].isin(['Greece'])]\n",
    "df_ital = df_nutri[df_nutri['country'].isin(['Italy'])]\n",
    "df_croatia = df_nutri[df_nutri['country'].isin(['Croatia'])]\n",
    "df_albania = df_nutri[df_nutri['country'].isin(['Albania'])]\n",
    "df_spain = df_nutri[df_nutri['country'].isin(['Spain'])]"
   ]
  },
  {
   "cell_type": "markdown",
   "metadata": {},
   "source": [
    "North Region"
   ]
  },
  {
   "cell_type": "code",
   "execution_count": 34,
   "metadata": {},
   "outputs": [],
   "source": [
    "df_fat_north = [df_danish['fat_100g'], df_swedish['fat_100g'], df_norwegian['fat_100g'], df_uk['fat_100g']]\n",
    "df_fat_north = pd.concat(df_fat_north)"
   ]
  },
  {
   "cell_type": "code",
   "execution_count": 35,
   "metadata": {},
   "outputs": [
    {
     "data": {
      "text/plain": [
       "2826"
      ]
     },
     "execution_count": 35,
     "metadata": {},
     "output_type": "execute_result"
    }
   ],
   "source": [
    "df_fat_north.notnull().sum()"
   ]
  },
  {
   "cell_type": "code",
   "execution_count": 36,
   "metadata": {},
   "outputs": [
    {
     "data": {
      "text/plain": [
       "4144"
      ]
     },
     "execution_count": 36,
     "metadata": {},
     "output_type": "execute_result"
    }
   ],
   "source": [
    "df_fat_north.isnull().sum()"
   ]
  },
  {
   "cell_type": "code",
   "execution_count": 38,
   "metadata": {},
   "outputs": [
    {
     "data": {
      "text/plain": [
       "4086"
      ]
     },
     "execution_count": 38,
     "metadata": {},
     "output_type": "execute_result"
    }
   ],
   "source": [
    "df_protein_north = [df_danish['proteins_100g'], df_swedish['proteins_100g'], df_norwegian['proteins_100g'], df_uk['proteins_100g']]\n",
    "df_protein_north = pd.concat(df_protein_north)\n",
    "df_protein_north.isnull().sum()"
   ]
  },
  {
   "cell_type": "code",
   "execution_count": 39,
   "metadata": {},
   "outputs": [
    {
     "data": {
      "text/plain": [
       "2884"
      ]
     },
     "execution_count": 39,
     "metadata": {},
     "output_type": "execute_result"
    }
   ],
   "source": [
    "df_protein_north.notnull().sum()"
   ]
  },
  {
   "cell_type": "code",
   "execution_count": 40,
   "metadata": {},
   "outputs": [
    {
     "data": {
      "text/plain": [
       "4154"
      ]
     },
     "execution_count": 40,
     "metadata": {},
     "output_type": "execute_result"
    }
   ],
   "source": [
    "df_carbs_north = [df_danish['carbohydrates_100g'], df_swedish['carbohydrates_100g'], df_norwegian['carbohydrates_100g'], df_uk['carbohydrates_100g']]\n",
    "df_carbs_north = pd.concat(df_carbs_north)\n",
    "df_carbs_north.isnull().sum()"
   ]
  },
  {
   "cell_type": "code",
   "execution_count": 41,
   "metadata": {},
   "outputs": [
    {
     "data": {
      "text/plain": [
       "2816"
      ]
     },
     "execution_count": 41,
     "metadata": {},
     "output_type": "execute_result"
    }
   ],
   "source": [
    "df_carbs_north.notnull().sum()"
   ]
  },
  {
   "cell_type": "code",
   "execution_count": 42,
   "metadata": {},
   "outputs": [
    {
     "data": {
      "text/plain": [
       "4150"
      ]
     },
     "execution_count": 42,
     "metadata": {},
     "output_type": "execute_result"
    }
   ],
   "source": [
    "df_sugar_north = [df_danish['sugars_100g'], df_swedish['sugars_100g'], df_norwegian['sugars_100g'], df_uk['sugars_100g']]\n",
    "df_sugar_north = pd.concat(df_sugar_north)\n",
    "df_sugar_north.isnull().sum()"
   ]
  },
  {
   "cell_type": "code",
   "execution_count": 43,
   "metadata": {},
   "outputs": [
    {
     "data": {
      "text/plain": [
       "2820"
      ]
     },
     "execution_count": 43,
     "metadata": {},
     "output_type": "execute_result"
    }
   ],
   "source": [
    "df_sugar_north.notnull().sum()"
   ]
  },
  {
   "cell_type": "code",
   "execution_count": 44,
   "metadata": {},
   "outputs": [
    {
     "data": {
      "text/plain": [
       "4904"
      ]
     },
     "execution_count": 44,
     "metadata": {},
     "output_type": "execute_result"
    }
   ],
   "source": [
    "df_fiber_north = [df_danish['fiber_100g'], df_swedish['fiber_100g'], df_norwegian['fiber_100g'], df_uk['fiber_100g']]\n",
    "df_fiber_north = pd.concat(df_fiber_north)\n",
    "df_fiber_north.isnull().sum()"
   ]
  },
  {
   "cell_type": "code",
   "execution_count": 45,
   "metadata": {},
   "outputs": [
    {
     "data": {
      "text/plain": [
       "2066"
      ]
     },
     "execution_count": 45,
     "metadata": {},
     "output_type": "execute_result"
    }
   ],
   "source": [
    "df_fiber_north.notnull().sum()"
   ]
  },
  {
   "cell_type": "markdown",
   "metadata": {},
   "source": [
    "Central Region"
   ]
  },
  {
   "cell_type": "code",
   "execution_count": 55,
   "metadata": {},
   "outputs": [],
   "source": [
    "df_fat_cent = [df_holland['fat_100g'], df_german['fat_100g'], df_french['fat_100g'], df_suisse['fat_100g'], df_belgium['fat_100g']]\n",
    "df_fat_cent = pd.concat(df_fat_cent)\n",
    "df_protein_cent = [df_holland['proteins_100g'], df_german['proteins_100g'], df_french['proteins_100g'], df_suisse['proteins_100g'], df_belgium['proteins_100g']]\n",
    "df_protein_cent = pd.concat(df_protein_cent)\n",
    "df_carbs_cent = [df_holland['carbohydrates_100g'], df_german['carbohydrates_100g'], df_french['carbohydrates_100g'], df_suisse['carbohydrates_100g'], df_belgium['carbohydrates_100g']]\n",
    "df_carbs_cent = pd.concat(df_carbs_cent)\n",
    "df_sugar_cent = [df_holland['sugars_100g'], df_german['sugars_100g'], df_french['sugars_100g'], df_suisse['sugars_100g'], df_belgium['sugars_100g']]\n",
    "df_sugar_cent = pd.concat(df_sugar_cent)\n",
    "df_fiber_cent = [df_holland['fiber_100g'], df_german['fiber_100g'], df_french['fiber_100g'], df_suisse['fiber_100g'], df_belgium['fiber_100g']]\n",
    "df_fiber_cent = pd.concat(df_fiber_cent)"
   ]
  },
  {
   "cell_type": "markdown",
   "metadata": {},
   "source": [
    "South Region"
   ]
  },
  {
   "cell_type": "code",
   "execution_count": 56,
   "metadata": {},
   "outputs": [],
   "source": [
    "df_fat_south = [df_port['fat_100g'], df_greek['fat_100g'], df_ital['fat_100g'], df_croatia['fat_100g'], df_albania['fat_100g'], df_spain['fat_100g']]\n",
    "df_fat_south = pd.concat(df_fat_south)\n",
    "df_protein_south = [df_port['proteins_100g'], df_greek['proteins_100g'], df_ital['proteins_100g'], df_croatia['proteins_100g'], df_albania['proteins_100g'], df_spain['proteins_100g']]\n",
    "df_protein_south = pd.concat(df_protein_south)\n",
    "df_carbs_south = [df_port['carbohydrates_100g'], df_greek['carbohydrates_100g'], df_ital['carbohydrates_100g'], df_croatia['carbohydrates_100g'], df_albania['carbohydrates_100g'], df_spain['carbohydrates_100g']]\n",
    "df_carbs_south = pd.concat(df_carbs_south)\n",
    "df_sugar_south = [df_port['sugars_100g'], df_greek['sugars_100g'], df_ital['sugars_100g'], df_croatia['sugars_100g'], df_albania['sugars_100g'], df_spain['sugars_100g']]\n",
    "df_sugar_south = pd.concat(df_sugar_south)\n",
    "df_fiber_south = [df_port['fiber_100g'], df_greek['fiber_100g'], df_ital['fiber_100g'], df_croatia['fiber_100g'], df_albania['fiber_100g'], df_spain['fiber_100g']]\n",
    "df_fiber_south = pd.concat(df_fiber_south)"
   ]
  },
  {
   "cell_type": "code",
   "execution_count": 59,
   "metadata": {},
   "outputs": [
    {
     "data": {
      "text/html": [
       "<div>\n",
       "<style scoped>\n",
       "    .dataframe tbody tr th:only-of-type {\n",
       "        vertical-align: middle;\n",
       "    }\n",
       "\n",
       "    .dataframe tbody tr th {\n",
       "        vertical-align: top;\n",
       "    }\n",
       "\n",
       "    .dataframe thead th {\n",
       "        text-align: right;\n",
       "    }\n",
       "</style>\n",
       "<table border=\"1\" class=\"dataframe\">\n",
       "  <thead>\n",
       "    <tr style=\"text-align: right;\">\n",
       "      <th></th>\n",
       "      <th>0</th>\n",
       "      <th>1</th>\n",
       "      <th>2</th>\n",
       "      <th>3</th>\n",
       "      <th>4</th>\n",
       "      <th>5</th>\n",
       "    </tr>\n",
       "  </thead>\n",
       "  <tbody>\n",
       "    <tr>\n",
       "      <th>0</th>\n",
       "      <td>North Europe</td>\n",
       "      <td>13.8176</td>\n",
       "      <td>7.16152</td>\n",
       "      <td>27.9537</td>\n",
       "      <td>15.1467</td>\n",
       "      <td>2.37926</td>\n",
       "    </tr>\n",
       "    <tr>\n",
       "      <th>1</th>\n",
       "      <td>Central Europe</td>\n",
       "      <td>13.49</td>\n",
       "      <td>7.70728</td>\n",
       "      <td>28.1119</td>\n",
       "      <td>13.7708</td>\n",
       "      <td>1.09662e+06</td>\n",
       "    </tr>\n",
       "    <tr>\n",
       "      <th>2</th>\n",
       "      <td>South Europe</td>\n",
       "      <td>12.9815</td>\n",
       "      <td>6.34936</td>\n",
       "      <td>29.6674</td>\n",
       "      <td>13.0517</td>\n",
       "      <td>3.87824</td>\n",
       "    </tr>\n",
       "  </tbody>\n",
       "</table>\n",
       "</div>"
      ],
      "text/plain": [
       "                0        1        2        3        4            5\n",
       "0    North Europe  13.8176  7.16152  27.9537  15.1467      2.37926\n",
       "1  Central Europe    13.49  7.70728  28.1119  13.7708  1.09662e+06\n",
       "2    South Europe  12.9815  6.34936  29.6674  13.0517      3.87824"
      ]
     },
     "execution_count": 59,
     "metadata": {},
     "output_type": "execute_result"
    }
   ],
   "source": [
    "df_final = pd.DataFrame(['North Europe', np.mean(df_fat_north), np.mean(df_protein_north), np.mean(df_carbs_north), np.mean(df_sugar_north), np.mean(df_fiber_north)]).T\n",
    "df_final = pd.concat([df_final, pd.DataFrame(['Central Europe', np.mean(df_fat_cent), np.mean(df_protein_cent), np.mean(df_carbs_cent), np.mean(df_sugar_cent), np.mean(df_fiber_cent)]).T], ignore_index = True)\n",
    "df_final = pd.concat([df_final, pd.DataFrame(['South Europe', np.mean(df_fat_south), np.mean(df_protein_south), np.mean(df_carbs_south), np.mean(df_sugar_south), np.mean(df_fiber_south)]).T], ignore_index = True)\n",
    "df_final"
   ]
  },
  {
   "cell_type": "code",
   "execution_count": 60,
   "metadata": {},
   "outputs": [
    {
     "data": {
      "text/html": [
       "<div>\n",
       "<style scoped>\n",
       "    .dataframe tbody tr th:only-of-type {\n",
       "        vertical-align: middle;\n",
       "    }\n",
       "\n",
       "    .dataframe tbody tr th {\n",
       "        vertical-align: top;\n",
       "    }\n",
       "\n",
       "    .dataframe thead th {\n",
       "        text-align: right;\n",
       "    }\n",
       "</style>\n",
       "<table border=\"1\" class=\"dataframe\">\n",
       "  <thead>\n",
       "    <tr style=\"text-align: right;\">\n",
       "      <th></th>\n",
       "      <th>Region</th>\n",
       "      <th>Fat</th>\n",
       "      <th>Protein</th>\n",
       "      <th>Carbohydrates</th>\n",
       "      <th>Sugar</th>\n",
       "      <th>Fiber</th>\n",
       "    </tr>\n",
       "  </thead>\n",
       "  <tbody>\n",
       "    <tr>\n",
       "      <th>0</th>\n",
       "      <td>North Europe</td>\n",
       "      <td>13.8176</td>\n",
       "      <td>7.16152</td>\n",
       "      <td>27.9537</td>\n",
       "      <td>15.1467</td>\n",
       "      <td>2.37926</td>\n",
       "    </tr>\n",
       "    <tr>\n",
       "      <th>1</th>\n",
       "      <td>Central Europe</td>\n",
       "      <td>13.49</td>\n",
       "      <td>7.70728</td>\n",
       "      <td>28.1119</td>\n",
       "      <td>13.7708</td>\n",
       "      <td>1.09662e+06</td>\n",
       "    </tr>\n",
       "    <tr>\n",
       "      <th>2</th>\n",
       "      <td>South Europe</td>\n",
       "      <td>12.9815</td>\n",
       "      <td>6.34936</td>\n",
       "      <td>29.6674</td>\n",
       "      <td>13.0517</td>\n",
       "      <td>3.87824</td>\n",
       "    </tr>\n",
       "  </tbody>\n",
       "</table>\n",
       "</div>"
      ],
      "text/plain": [
       "           Region      Fat  Protein Carbohydrates    Sugar        Fiber\n",
       "0    North Europe  13.8176  7.16152       27.9537  15.1467      2.37926\n",
       "1  Central Europe    13.49  7.70728       28.1119  13.7708  1.09662e+06\n",
       "2    South Europe  12.9815  6.34936       29.6674  13.0517      3.87824"
      ]
     },
     "execution_count": 60,
     "metadata": {},
     "output_type": "execute_result"
    }
   ],
   "source": [
    "df_final.columns = ['Region', 'Fat', 'Protein', 'Carbohydrates', 'Sugar', 'Fiber']\n",
    "df_final"
   ]
  },
  {
   "cell_type": "code",
   "execution_count": 79,
   "metadata": {},
   "outputs": [
    {
     "data": {
      "image/png": "[encoded data removed]",
      "text/plain": [
       "<matplotlib.figure.Figure at 0x54a4c240>"
      ]
     },
     "metadata": {},
     "output_type": "display_data"
    }
   ],
   "source": [
    "#plot\n",
    "fig, ax = plt.subplots(figsize=(20,10))\n",
    "#index\n",
    "pos = np.arange(3)\n",
    "#plot title\n",
    "ax.set_title('Average quantity per 100g', fontsize=25)\n",
    "\n",
    "#auxiliary var for the colors in rgb format\n",
    "const = float(255)\n",
    "ax.plot(pos, df_final['Fat'],  marker='o', markeredgecolor=(84/const, 170/const, 118/const), label='Fat',markersize=10)\n",
    "ax.plot(pos, df_final['Protein'], marker='o',markeredgecolor=(84/const, 170/const, 118/const), label='Protein',markersize=10)\n",
    "ax.plot(pos, df_final['Carbohydrates'], marker='o',markeredgecolor=(84/const, 170/const, 118/const), label='Carbohydrate',markersize=10)\n",
    "ax.plot(pos, df_final['Sugar'], marker='o',markeredgecolor=(84/const, 170/const, 118/const), label='Sugar',markersize=10)\n",
    "#ax.plot(pos, df_final['Fiber'], marker='o',markeredgecolor=(84/const, 170/const, 118/const), label='Fiber',markersize=10)\n",
    "\n",
    "#plot limits\n",
    "ax.set_ylim(0,50)\n",
    "ax.set_xlim(-1,3)\n",
    "#x ticks adjustment\n",
    "ax.set_xticks(pos)\n",
    "ax.set_xticklabels(df_final['Region'], alpha=0.7, fontsize=25)\n",
    "\n",
    "ticks = ['0','10','20','30','40','50']\n",
    "ax.set_yticklabels(labels = ticks, fontsize=25)\n",
    "#legend\n",
    "plt.legend(loc='best',prop={'size':22})\n",
    "plt.tight_layout()\n",
    "plt.grid()\n",
    "plt.show()"
   ]
  },
  {
   "cell_type": "code",
   "execution_count": null,
   "metadata": {},
   "outputs": [],
   "source": []
  }
 ],
 "metadata": {
  "kernelspec": {
   "display_name": "Python 2",
   "language": "python",
   "name": "python2"
  },
  "language_info": {
   "codemirror_mode": {
    "name": "ipython",
    "version": 2
   },
   "file_extension": ".py",
   "mimetype": "text/x-python",
   "name": "python",
   "nbconvert_exporter": "python",
   "pygments_lexer": "ipython2",
   "version": "2.7.14"
  }
 },
 "nbformat": 4,
 "nbformat_minor": 2
}
